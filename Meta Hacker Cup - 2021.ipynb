{
 "cells": [
  {
   "cell_type": "code",
   "execution_count": 17,
   "id": "37bb042a",
   "metadata": {},
   "outputs": [
    {
     "name": "stdout",
     "output_type": "stream",
     "text": [
      "0\n"
     ]
    }
   ],
   "source": [
    "#Consistency - Chapter 1 (2021 qualification round)\n",
    "vowels = set('AEIOU')\n",
    "consonants = set()\n",
    "A = 'A'\n",
    "Z = 'Z'\n",
    "for i in range(65,91):\n",
    "    if(chr(i) not in vowels):\n",
    "        consonants.add(chr(i))\n",
    "# print(vowels)\n",
    "# print(consonants)\n",
    "ans = 0\n",
    "string = 'FFFF'\n",
    "consistent = True\n",
    "temp = string[0]\n",
    "for i in range(len(string)):\n",
    "    if(string[i]!=temp):\n",
    "        consistent = False\n",
    "len_of_string = len(string)\n",
    "vow_in_string = {}\n",
    "cons_in_string = {}\n",
    "total_vowels = 0\n",
    "total_consonants = 0\n",
    "for i in range(len(string)):\n",
    "    if(string[i] in vowels):\n",
    "        total_vowels += 1\n",
    "        if(string[i] in vow_in_string):\n",
    "            vow_in_string[string[i]] += 1\n",
    "        else:\n",
    "            vow_in_string[string[i]] = 1\n",
    "    else:\n",
    "        total_consonants += 1\n",
    "        if(string[i] in cons_in_string):\n",
    "            cons_in_string[string[i]] += 1\n",
    "        else:\n",
    "            cons_in_string[string[i]] = 1\n",
    "dist_vow = len(vow_in_string)\n",
    "dist_cons = len(cons_in_string)\n",
    "if(consistent == True):\n",
    "    ans = 0\n",
    "elif(dist_vow == 0 or dist_cons == 0):\n",
    "    if(dist_vow ==0):\n",
    "        ans = dist_cons\n",
    "    else:\n",
    "        ans = dist_vow\n",
    "else:\n",
    "    cons_with_max_count_value = cons_in_string[max(cons_in_string, key = cons_in_string.get)]\n",
    "    vow_with_max_count_value = vow_in_string[max(vow_in_string, key = vow_in_string.get)]\n",
    "    ans = ans + (total_vowels-vow_with_max_count_value) + (total_consonants-cons_with_max_count_value)\n",
    "    total_vowels_1 = (total_consonants - cons_with_max_count_value) + (vow_with_max_count_value)\n",
    "    total_consonants_1 = (total_vowels - vow_with_max_count_value) + (cons_with_max_count_value)\n",
    "    ans = ans + min(total_vowels_1,total_consonants_1)\n",
    "print(ans)"
   ]
  },
  {
   "cell_type": "code",
   "execution_count": null,
   "id": "b090b8f9",
   "metadata": {},
   "outputs": [],
   "source": []
  }
 ],
 "metadata": {
  "kernelspec": {
   "display_name": "Python 3 (ipykernel)",
   "language": "python",
   "name": "python3"
  },
  "language_info": {
   "codemirror_mode": {
    "name": "ipython",
    "version": 3
   },
   "file_extension": ".py",
   "mimetype": "text/x-python",
   "name": "python",
   "nbconvert_exporter": "python",
   "pygments_lexer": "ipython3",
   "version": "3.9.7"
  }
 },
 "nbformat": 4,
 "nbformat_minor": 5
}
